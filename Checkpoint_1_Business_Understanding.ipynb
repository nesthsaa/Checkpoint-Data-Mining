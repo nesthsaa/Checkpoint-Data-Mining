{
  "nbformat": 4,
  "nbformat_minor": 0,
  "metadata": {
    "colab": {
      "provenance": [],
      "authorship_tag": "ABX9TyM7Dac3cVW/ZUx1PWKcnED3",
      "include_colab_link": true
    },
    "kernelspec": {
      "name": "python3",
      "display_name": "Python 3"
    },
    "language_info": {
      "name": "python"
    }
  },
  "cells": [
    {
      "cell_type": "markdown",
      "metadata": {
        "id": "view-in-github",
        "colab_type": "text"
      },
      "source": [
        "<a href=\"https://colab.research.google.com/github/nesthsaa/Checkpoint-Data-Mining/blob/main/Checkpoint_1_Business_Understanding.ipynb\" target=\"_parent\"><img src=\"https://colab.research.google.com/assets/colab-badge.svg\" alt=\"Open In Colab\"/></a>"
      ]
    },
    {
      "cell_type": "markdown",
      "source": [
        "## **Analisis Preferensi Konsumen dalam Pembelian Kacamata Menggunakan Model Supervised Learning**"
      ],
      "metadata": {
        "id": "uiYYWGo30mrg"
      }
    },
    {
      "cell_type": "markdown",
      "source": [
        "### Bussines Understanding"
      ],
      "metadata": {
        "id": "NQ6NPSY6qHqB"
      }
    },
    {
      "cell_type": "markdown",
      "source": [
        "**Business Objective**\n",
        "\n",
        "Tujuan bisnis berdasarkan dataset ini adalah untuk mengidentifikasi merek, harga, dan deskripsi produk\n",
        "yang paling populer guna menciptakan produk yang sesuai dengan minat konsumen sehingga dapat memaksimalkan penjualan pada perusahaan dan menarik lebih banyak pelanggan.\n",
        "\n",
        "\n",
        "\n",
        "\n",
        "\n",
        "\n"
      ],
      "metadata": {
        "id": "nZeD8KZiqTyi"
      }
    },
    {
      "cell_type": "markdown",
      "source": [
        "**Assess Situation**\n",
        "\n",
        "Situasi bisnis yang mendasari analisis ini adalah kondisi pasar yang sangat beragam yang mana mencakup berbagai jenis kacamata dari berbagai brand yang berbeda sehingga sulit untuk menyusun pola atau tren yang konsisten. Diperlukan pemahaman dan pengelompokkan preferensi konsumen dari data yang beragam ini untuk merancang strategi pemasaran yang efektif."
      ],
      "metadata": {
        "id": "Q_z8bxkEa8h9"
      }
    },
    {
      "cell_type": "markdown",
      "source": [
        "**Data Mining Goals**\n",
        "\n",
        "Tujuan dilakukan penggalian data pada dataset ini adalah untuk mengidentifikasi trend, preferensi, dan kebutuhan konsumen. Hal ini dapat membantu perusahaan untuk mengetahui apa yang diinginkan dan diminati oleh konsumen dan menghasilkan produk yang relevan."
      ],
      "metadata": {
        "id": "I-zOjB-psxQx"
      }
    },
    {
      "cell_type": "markdown",
      "source": [
        "**Project Plan**\n",
        "\n",
        "Rencana proyek untuk menganalisis dataset ini diawali dengan pengumpulan data yang relevan. Selanjutnya akan dilakukan analisis awal untuk memahami struktur dan isi data. Kemudian, dilakukan identifikasi variabel yang terdapat dalam dataset. Setelah itu, data dieksplorasi untuk mengidentifikasi perilaku konsumen dalam membeli kacamata dan meninjau korelasi antar variabel. Kualitas data juga akan dievaluasi untuk memvalidasi informasi. Tahap terakhir adalah pengambilan kepurusan berdasarkan hasil analisis dan model prediktif"
      ],
      "metadata": {
        "id": "Ng39nEEUuoUr"
      }
    }
  ]
}